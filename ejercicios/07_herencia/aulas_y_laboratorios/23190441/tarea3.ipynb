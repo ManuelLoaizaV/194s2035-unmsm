{
  "nbformat": 4,
  "nbformat_minor": 0,
  "metadata": {
    "colab": {
      "provenance": []
    },
    "kernelspec": {
      "name": "python3",
      "display_name": "Python 3"
    },
    "language_info": {
      "name": "python"
    }
  },
  "cells": [
    {
      "cell_type": "code",
      "execution_count": null,
      "metadata": {
        "colab": {
          "base_uri": "https://localhost:8080/"
        },
        "id": "mr7iLpdb5c8K",
        "outputId": "b3f10347-5f32-4653-a9c0-682c35bdb7b0"
      },
      "outputs": [
        {
          "output_type": "stream",
          "name": "stdout",
          "text": [
            "Área del aula1: 200\n",
            "Perímetro del aula1: 60\n",
            "Área del laboratorio1: 225\n",
            "Perímetro del laboratorio1: 60\n"
          ]
        }
      ],
      "source": [
        "class Aula:\n",
        "    def __init__(self, largo, ancho):\n",
        "        # Inicializamos un aula con largo y ancho\n",
        "        self.largo = largo\n",
        "        self.ancho = ancho\n",
        "\n",
        "    def calcular_area(self):\n",
        "        # El área del aula es largo * ancho\n",
        "        return self.largo * self.ancho\n",
        "\n",
        "    def calcular_perimetro(self):\n",
        "        # El perímetro del aula es 2 * (largo + ancho)\n",
        "        return 2 * (self.largo + self.ancho)\n",
        "\n",
        "class Laboratorio(Aula):\n",
        "    def __init__(self, lado):\n",
        "        # Inicializamos un laboratorio, es decir, un aula cuadrada\n",
        "        # Llamamos al constructor de la clase base (Aula) con el mismo lado para largo y ancho\n",
        "        super().__init__(lado, lado)\n",
        "\n",
        "# Ejemplo de uso:\n",
        "# Creación de un aula rectangular\n",
        "aula1 = Aula(10, 20)\n",
        "print(\"Área del aula1:\", aula1.calcular_area())\n",
        "print(\"Perímetro del aula1:\", aula1.calcular_perimetro())\n",
        "\n",
        "# Creación de un laboratorio cuadrado\n",
        "laboratorio1 = Laboratorio(15)\n",
        "print(\"Área del laboratorio1:\", laboratorio1.calcular_area())\n",
        "print(\"Perímetro del laboratorio1:\", laboratorio1.calcular_perimetro())"
      ]
    }
  ]
}