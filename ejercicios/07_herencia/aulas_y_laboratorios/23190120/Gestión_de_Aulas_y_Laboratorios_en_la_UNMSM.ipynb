{
  "nbformat": 4,
  "nbformat_minor": 0,
  "metadata": {
    "colab": {
      "provenance": []
    },
    "kernelspec": {
      "name": "python3",
      "display_name": "Python 3"
    },
    "language_info": {
      "name": "python"
    }
  },
  "cells": [
    {
      "cell_type": "code",
      "execution_count": 20,
      "metadata": {
        "id": "Vhv9tkL94k3K"
      },
      "outputs": [],
      "source": [
        "class Aula:\n",
        "    def __init__(self, largo, ancho):\n",
        "        self._largo = largo\n",
        "        self._ancho = ancho\n",
        "\n",
        "    def obtener_area(self):\n",
        "        self._area = self._largo * self._ancho\n",
        "        return self._area\n",
        "\n",
        "    def obtener_perimetro(self):\n",
        "        self._perimetro = 2*(self._largo + self._ancho)\n",
        "        return self._perimetro\n",
        "\n",
        "\n",
        "class Laboratorio(Aula):\n",
        "    def __init__(self, largo):\n",
        "        super().__init__(largo,largo)"
      ]
    },
    {
      "cell_type": "code",
      "source": [
        "A101 = Aula (14.78, 5.34)\n",
        "B301 = Aula(7, 29.8)\n",
        "c_digitales = Laboratorio(4.45)\n",
        "antenas = Laboratorio(2.79)"
      ],
      "metadata": {
        "id": "9vIUkvD2xnwN"
      },
      "execution_count": 22,
      "outputs": []
    },
    {
      "cell_type": "code",
      "source": [
        "print(B301.obtener_area())\n",
        "print(A101.obtener_area())"
      ],
      "metadata": {
        "colab": {
          "base_uri": "https://localhost:8080/"
        },
        "id": "ii0TrymtOsns",
        "outputId": "da29895d-af2d-4570-d168-6f50c014bc00"
      },
      "execution_count": 16,
      "outputs": [
        {
          "output_type": "stream",
          "name": "stdout",
          "text": [
            "208.6\n",
            "78.92519999999999\n"
          ]
        }
      ]
    },
    {
      "cell_type": "code",
      "source": [
        "print(A101.obtener_perimetro())\n",
        "print(B301.obtener_perimetro())"
      ],
      "metadata": {
        "colab": {
          "base_uri": "https://localhost:8080/"
        },
        "id": "MSNjE2PlO77c",
        "outputId": "e86ab927-fb6c-460a-9fe6-6f56e66cae08"
      },
      "execution_count": 17,
      "outputs": [
        {
          "output_type": "stream",
          "name": "stdout",
          "text": [
            "40.239999999999995\n",
            "73.6\n"
          ]
        }
      ]
    },
    {
      "cell_type": "code",
      "source": [
        "print(c_digitales.obtener_area())\n",
        "print(c_digitales.obtener_perimetro())"
      ],
      "metadata": {
        "colab": {
          "base_uri": "https://localhost:8080/"
        },
        "id": "LXqPR1z_QNiN",
        "outputId": "18d67fc9-1d88-4b46-decc-5b584e4b86aa"
      },
      "execution_count": 24,
      "outputs": [
        {
          "output_type": "stream",
          "name": "stdout",
          "text": [
            "19.802500000000002\n",
            "17.8\n"
          ]
        }
      ]
    },
    {
      "cell_type": "code",
      "source": [
        "print(antenas.obtener_perimetro())\n",
        "print(antenas.obtener_area())"
      ],
      "metadata": {
        "colab": {
          "base_uri": "https://localhost:8080/"
        },
        "id": "mLeV3UFMaEFS",
        "outputId": "c5667fbe-08bf-4f66-9390-d6b45cfc4307"
      },
      "execution_count": 25,
      "outputs": [
        {
          "output_type": "stream",
          "name": "stdout",
          "text": [
            "11.16\n",
            "7.7841000000000005\n"
          ]
        }
      ]
    }
  ]
}