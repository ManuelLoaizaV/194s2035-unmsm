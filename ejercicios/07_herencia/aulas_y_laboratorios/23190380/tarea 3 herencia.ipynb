{
  "nbformat": 4,
  "nbformat_minor": 0,
  "metadata": {
    "colab": {
      "provenance": []
    },
    "kernelspec": {
      "name": "python3",
      "display_name": "Python 3"
    },
    "language_info": {
      "name": "python"
    }
  },
  "cells": [
    {
      "cell_type": "code",
      "execution_count": 5,
      "metadata": {
        "id": "mS0WsSqMKq9K"
      },
      "outputs": [],
      "source": [
        "class Aula:\n",
        "    def __init__(self, largo, ancho):\n",
        "        self.largo = largo\n",
        "        self.ancho = ancho\n",
        "\n",
        "    def obtener_area(self):\n",
        "        \"\"\"Calcula y devuelve el área del aula.\"\"\"\n",
        "        return self.largo * self.ancho\n",
        "\n",
        "    def obtener_perimetro(self):\n",
        "        \"\"\"Calcula y devuelve el perímetro del aula.\"\"\"\n",
        "        return 2 * (self.largo + self.ancho)\n",
        "\n"
      ]
    },
    {
      "cell_type": "code",
      "source": [
        "class Laboratorio(Aula):\n",
        "    def __init__(self, largo):\n",
        "        \"\"\"Como los laboratorios son cuadrados le doy el mismo valor para largo y ancho.\"\"\"\n",
        "        super().__init__(largo, largo)\n",
        "\n"
      ],
      "metadata": {
        "id": "tLF2uIiiMpCh"
      },
      "execution_count": 6,
      "outputs": []
    },
    {
      "cell_type": "markdown",
      "source": [
        "Ejemplo de uso:"
      ],
      "metadata": {
        "id": "8LzZdN62ScXY"
      }
    },
    {
      "cell_type": "code",
      "source": [
        "# Creamos una instancia de Aula\n",
        "aula1 = Aula(10, 5)\n",
        "# Creamos una instancia de Laboratorio\n",
        "lab1 = Laboratorio(7)\n",
        "\n",
        "# Mostramos la información del aula\n",
        "print(\"Información del Aula:\")\n",
        "print(f\"Largo: {aula1.largo} metros\")\n",
        "print(f\"Ancho: {aula1.ancho} metros\")\n",
        "print(f\"Área: {aula1.obtener_area()} metros cuadrados\")\n",
        "print(f\"Perímetro: {aula1.obtener_perimetro()} metros\\n\")\n",
        "\n",
        "# Mostramos la información del laboratorio\n",
        "print(\"Información del Laboratorio:\")\n",
        "print(f\"Largo: {lab1.largo} metros\")\n",
        "print(f\"Ancho: {lab1.ancho} metros\")\n",
        "print(f\"Área: {lab1.obtener_area()} metros cuadrados\")\n",
        "print(f\"Perímetro: {lab1.obtener_perimetro()} metros\")\n"
      ],
      "metadata": {
        "colab": {
          "base_uri": "https://localhost:8080/"
        },
        "id": "OO0bCW4UNqH5",
        "outputId": "5f879166-8ad3-4273-e013-74eb690c5d79"
      },
      "execution_count": 8,
      "outputs": [
        {
          "output_type": "stream",
          "name": "stdout",
          "text": [
            "Información del Aula:\n",
            "Largo: 10 metros\n",
            "Ancho: 5 metros\n",
            "Área: 50 metros cuadrados\n",
            "Perímetro: 30 metros\n",
            "\n",
            "Información del Laboratorio:\n",
            "Largo: 7 metros\n",
            "Ancho: 7 metros\n",
            "Área: 49 metros cuadrados\n",
            "Perímetro: 28 metros\n"
          ]
        }
      ]
    },
    {
      "cell_type": "code",
      "source": [
        "# Más ejemplos\n",
        "aula2 = Aula(13, 8)\n",
        "print(\"Área del aula:\", aula2.obtener_area())\n",
        "print(\"Perímetro del aula:\", aula2.obtener_perimetro())\n",
        "\n"
      ],
      "metadata": {
        "colab": {
          "base_uri": "https://localhost:8080/"
        },
        "id": "hHXA9gmeSM4B",
        "outputId": "b0230028-775a-47f3-ca2b-12445b953fe2"
      },
      "execution_count": 15,
      "outputs": [
        {
          "output_type": "stream",
          "name": "stdout",
          "text": [
            "Área del aula: 104\n",
            "Perímetro del aula: 42\n"
          ]
        }
      ]
    },
    {
      "cell_type": "code",
      "source": [
        "lab2 = Laboratorio(11)\n",
        "print(\"Área del laboratorio:\", lab2.obtener_area())\n",
        "print(\"Perímetro del laboratorio:\", lab2.obtener_perimetro())"
      ],
      "metadata": {
        "colab": {
          "base_uri": "https://localhost:8080/"
        },
        "id": "61SsraYpSksI",
        "outputId": "d4e97332-b55b-456f-fcda-069149a8196a"
      },
      "execution_count": 13,
      "outputs": [
        {
          "output_type": "stream",
          "name": "stdout",
          "text": [
            "Área del laboratorio: 121\n",
            "Perímetro del laboratorio: 44\n"
          ]
        }
      ]
    }
  ]
}