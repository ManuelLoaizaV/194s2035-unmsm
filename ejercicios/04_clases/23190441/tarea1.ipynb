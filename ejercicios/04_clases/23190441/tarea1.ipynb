{
  "nbformat": 4,
  "nbformat_minor": 0,
  "metadata": {
    "colab": {
      "provenance": []
    },
    "kernelspec": {
      "name": "python3",
      "display_name": "Python 3"
    },
    "language_info": {
      "name": "python"
    }
  },
  "cells": [
    {
      "cell_type": "code",
      "execution_count": 1,
      "metadata": {
        "colab": {
          "base_uri": "https://localhost:8080/"
        },
        "id": "rTBxDFa4DY1Z",
        "outputId": "87deb517-fd8d-49a2-8627-316aefd518b1"
      },
      "outputs": [
        {
          "output_type": "stream",
          "name": "stdout",
          "text": [
            "Nombre del primer empleado: Jorge Luis Arévalo Flores\n",
            "Total de empleados en la UNMSM: 2\n"
          ]
        }
      ],
      "source": [
        "class Empleado_SM:\n",
        "    # Variables de la clase\n",
        "    nombre_universidad = \"Universidad Nacional Mayor de San Marcos\"\n",
        "    total_empleados = 0\n",
        "\n",
        "    def __init__(self, prim_nombre, seg_nombre, prim_apellido, seg_apellido, dni, puesto, salario):\n",
        "        # Variables de instancia\n",
        "        self.prim_nombre = prim_nombre\n",
        "        self.seg_nombre = seg_nombre\n",
        "        self.prim_apellido = prim_apellido\n",
        "        self.seg_apellido = seg_apellido\n",
        "        self.dni = dni\n",
        "        self.puesto = puesto\n",
        "        self.salario = salario\n",
        "\n",
        "        # Incrementamos el número total de empleados al crear uno nuevo\n",
        "        Empleado_SM.total_empleados += 1\n",
        "\n",
        "    def obtener_nombre(self):\n",
        "        # Método getter que devuelve el nombre completo\n",
        "        return f\"{self.prim_nombre} {self.seg_nombre} {self.prim_apellido} {self.seg_apellido}\"\n",
        "\n",
        "    @classmethod\n",
        "    def obtener_total_empleados(cls):\n",
        "        # Método de clase para obtener el total de empleados\n",
        "        return cls.total_empleados\n",
        "\n",
        "# Ejemplo de uso:\n",
        "empleado1 = Empleado_SM(\"Jorge\", \"Luis\", \"Arévalo\", \"Flores\", \"12345678\", \"Profesor\", 3500)\n",
        "empleado2 = Empleado_SM(\"Ana\", \"Lucía\", \"García\", \"Suárez\", \"23456789\", \"Investigadora\", 4000)\n",
        "\n",
        "print(\"Nombre del primer empleado:\", empleado1.obtener_nombre())\n",
        "print(\"Total de empleados en la UNMSM:\", Empleado_SM.obtener_total_empleados())"
      ]
    }
  ]
}