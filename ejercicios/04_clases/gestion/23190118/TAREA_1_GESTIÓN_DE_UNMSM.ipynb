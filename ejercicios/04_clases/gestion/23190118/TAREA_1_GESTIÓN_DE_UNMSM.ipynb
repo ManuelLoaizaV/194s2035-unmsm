{
  "nbformat": 4,
  "nbformat_minor": 0,
  "metadata": {
    "colab": {
      "provenance": [],
      "authorship_tag": "ABX9TyMr2LzrAIFl5FccEElFKli3",
      "include_colab_link": true
    },
    "kernelspec": {
      "name": "python3",
      "display_name": "Python 3"
    },
    "language_info": {
      "name": "python"
    }
  },
  "cells": [
    {
      "cell_type": "markdown",
      "metadata": {
        "id": "view-in-github",
        "colab_type": "text"
      },
      "source": [
        "<a href=\"https://colab.research.google.com/github/Nileve-teoo/OneDrive/blob/main/TAREA_1_GESTI%C3%93N_DE_UNMSM.ipynb\" target=\"_parent\"><img src=\"https://colab.research.google.com/assets/colab-badge.svg\" alt=\"Open In Colab\"/></a>"
      ]
    },
    {
      "cell_type": "markdown",
      "source": [
        "# Gestión de Empleados de la UNMSM"
      ],
      "metadata": {
        "id": "6gnkKDwmWOmT"
      }
    },
    {
      "cell_type": "markdown",
      "source": [
        "# Variables de clase\n",
        "Inicializa las siguientes variables de clase:\n",
        "\n",
        "nombre_universidad debe estar inicializada como \"Universidad Nacional Mayor de San Marcos\".\n",
        "total_empleados debe estar inicializada en 0.\n",
        "# Constructor\n",
        "El constructor debe recibir los siguientes parámetros y asignarlos a las variables de instancia correspondientes: primer_nombre, apellido, dni, puesto y salario.\n",
        "\n",
        "Además, el constructor debe incrementar la variable de clase total_empleados cada vez que se cree un nuevo Empleado. Recuerda que total_empleados es una variable de clase, no una variable de instancia.\n",
        "\n",
        "# Getter\n",
        "Agrega un método obtener_nombre que devuelva el nombre completo del empleado como una cadena (por ejemplo, \"Manuel Loaiza\")."
      ],
      "metadata": {
        "id": "wTeLLwWPXToh"
      }
    },
    {
      "cell_type": "code",
      "execution_count": 1,
      "metadata": {
        "colab": {
          "base_uri": "https://localhost:8080/"
        },
        "id": "nhuhl3uEWN27",
        "outputId": "6d8b1fa3-f51b-48ee-cf49-b2de8a267c4e"
      },
      "outputs": [
        {
          "output_type": "stream",
          "name": "stdout",
          "text": [
            "Jorge Rodriguez\n",
            "Norwin Salas\n",
            "6\n",
            "Universidad Nacional Mayor de San Marcos\n"
          ]
        }
      ],
      "source": [
        "class Empleado:\n",
        "    # Variables de clase\n",
        "    nombre_universidad = \"Universidad Nacional Mayor de San Marcos\"\n",
        "    total_empleados = 0\n",
        "\n",
        "    def __init__(self, primer_nombre, apellido, dni, puesto, salario):\n",
        "        # Variables de instancia\n",
        "        self.primer_nombre = primer_nombre\n",
        "        self.apellido = apellido\n",
        "        self.dni = dni\n",
        "        self.puesto = puesto\n",
        "        self.salario = salario\n",
        "\n",
        "        # Incrementa el número total de empleados al crear uno nuevo\n",
        "        Empleado.total_empleados += 1\n",
        "\n",
        "    # Método getter para obtener el nombre completo\n",
        "    def obtener_nombre(self):\n",
        "        return f\"{self.primer_nombre} {self.apellido}\"\n",
        "\n",
        "\n",
        "empleado1 = Empleado(\"Jairo\", \"Lopez\", \"12345678\", \"Profesor\", 5000)\n",
        "empleado2 = Empleado(\"Lucía\", \"Miranda\", \"87654321\", \"Administradora\", 4000)\n",
        "empleado1 = Empleado(\"Antero\", \"Cuccha\", \"65897678\", \"Bibliotecario\", 2000)\n",
        "empleado2 = Empleado(\"Juan\", \"Miranda\", \"54532541\", \"Jefe de departamento\", 6000)\n",
        "empleado1 = Empleado(\"Jorge\", \"Rodriguez\", \"15554868\", \"Profesor\", 4700)\n",
        "empleado2 = Empleado(\"Norwin\", \"Salas\", \"58954321\", \"Administradora\", 4000)\n",
        "\n",
        "\n",
        "\n",
        "print(empleado1.obtener_nombre())\n",
        "print(empleado2.obtener_nombre())\n",
        "print(Empleado.total_empleados)\n",
        "print(Empleado.nombre_universidad)\n"
      ]
    }
  ]
}