{
  "nbformat": 4,
  "nbformat_minor": 0,
  "metadata": {
    "colab": {
      "provenance": []
    },
    "kernelspec": {
      "name": "python3",
      "display_name": "Python 3"
    },
    "language_info": {
      "name": "python"
    }
  },
  "cells": [
    {
      "cell_type": "code",
      "execution_count": 1,
      "metadata": {
        "id": "NJMLJBF3ZIIK"
      },
      "outputs": [],
      "source": [
        "class Empleado:\n",
        "    nombre_universidad = \"Universidad Nacional Mayor de San Marcos\"\n",
        "    total_empleados = 0\n",
        "    def __init__(self, primer_nombre, apellido, dni, puesto, salario):\n",
        "        self.primer_nombre = primer_nombre\n",
        "        self.apellido = apellido\n",
        "        self.dni = dni\n",
        "        self.puesto = puesto\n",
        "        self.salario = salario\n",
        "\n",
        "        Empleado.total_empleados += 1\n",
        "\n",
        "    def obtener_nombre(self):\n",
        "        return f\"{self.primer_nombre} {self.apellido}\"\n",
        "\n"
      ]
    },
    {
      "cell_type": "code",
      "source": [
        "\n",
        "empleado1 = Empleado(\"Manuel\", \"Loaiza\", \"12345678\", \"Profesor\", 4000)\n",
        "empleado2 = Empleado(\"Ana\", \"Pérez\", \"87654321\", \"Administrativo\", 3500)\n"
      ],
      "metadata": {
        "id": "HtNUbjlsZlSz"
      },
      "execution_count": 2,
      "outputs": []
    },
    {
      "cell_type": "code",
      "source": [
        "print(empleado1.obtener_nombre())\n",
        "\n",
        "print(empleado2.obtener_nombre())"
      ],
      "metadata": {
        "colab": {
          "base_uri": "https://localhost:8080/"
        },
        "id": "s-V6gy2mZm6r",
        "outputId": "a31fe1e9-1c7d-4ae4-8dd5-58698dd0db25"
      },
      "execution_count": 3,
      "outputs": [
        {
          "output_type": "stream",
          "name": "stdout",
          "text": [
            "Manuel Loaiza\n",
            "Ana Pérez\n"
          ]
        }
      ]
    },
    {
      "cell_type": "code",
      "source": [
        "print(f\"Total de empleados: {Empleado.total_empleados}\")\n"
      ],
      "metadata": {
        "colab": {
          "base_uri": "https://localhost:8080/"
        },
        "id": "hXkJzqpOZobi",
        "outputId": "e73bb73d-f8f7-4081-d9d8-07a1b65c3123"
      },
      "execution_count": 4,
      "outputs": [
        {
          "output_type": "stream",
          "name": "stdout",
          "text": [
            "Total de empleados: 2\n"
          ]
        }
      ]
    },
    {
      "cell_type": "code",
      "source": [
        "empleado3 = Empleado(\"Kerry\", \"Martinez\", \"76316074\", \"Consejero\", 2500)\n",
        "empleado4 = Empleado(\"Sofia\", \"Ricci\", \"29374837\", \"Limpieza\", 1800)"
      ],
      "metadata": {
        "id": "I2ICfkIqcPYj"
      },
      "execution_count": 5,
      "outputs": []
    },
    {
      "cell_type": "code",
      "source": [
        "print(empleado3.obtener_nombre())\n",
        "\n",
        "print(empleado4.obtener_nombre())"
      ],
      "metadata": {
        "colab": {
          "base_uri": "https://localhost:8080/"
        },
        "id": "Rzb1aYZsci9r",
        "outputId": "bc129b2b-b6fa-4708-a211-73838819a1b2"
      },
      "execution_count": 6,
      "outputs": [
        {
          "output_type": "stream",
          "name": "stdout",
          "text": [
            "Kerry Martinez\n",
            "Sofia Ricci\n"
          ]
        }
      ]
    },
    {
      "cell_type": "code",
      "source": [
        "print(f\"Total de empleados: {Empleado.total_empleados}\")"
      ],
      "metadata": {
        "id": "5kQlQhh7cpeK",
        "outputId": "a70feee1-ccc5-4e56-f56e-ddc641db10ef",
        "colab": {
          "base_uri": "https://localhost:8080/"
        }
      },
      "execution_count": 7,
      "outputs": [
        {
          "output_type": "stream",
          "name": "stdout",
          "text": [
            "Total de empleados: 4\n"
          ]
        }
      ]
    }
  ]
}