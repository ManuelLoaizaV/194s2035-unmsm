{
  "nbformat": 4,
  "nbformat_minor": 0,
  "metadata": {
    "colab": {
      "provenance": []
    },
    "kernelspec": {
      "name": "python3",
      "display_name": "Python 3"
    },
    "language_info": {
      "name": "python"
    }
  },
  "cells": [
    {
      "cell_type": "code",
      "source": [
        "class Libro:\n",
        "    def __init__(self, titulo, autor):\n",
        "        self.titulo = titulo\n",
        "        self.autor = autor\n",
        "\n",
        "class Biblioteca:\n",
        "    def __init__(self, nombre):\n",
        "        self.nombre = nombre\n",
        "        self.libros = []\n",
        "\n",
        "    def agregar_libro(self, libro):\n",
        "        self.libros.append(libro)\n",
        "        print(f\"Se agregó el libro: {libro.titulo}\")\n",
        "\n",
        "    def remover_libro(self, libro):\n",
        "        for libro_ in self.libros:\n",
        "            if libro_.titulo == libro.titulo and libro_.autor == libro.autor:\n",
        "                self.libros.remove(libro_)\n",
        "                print(f\"Se removió el libro: {libro.titulo}\")\n",
        "\n",
        "    def buscar_libros(self, cadena_busqueda):\n",
        "      cadena_busqueda = cadena_busqueda.lower()\n",
        "      lista_de_libros_hallados = []\n",
        "      for libro in self.libros:\n",
        "            if (cadena_busqueda in libro.titulo.lower() or\n",
        "            cadena_busqueda in libro.autor.lower()):\n",
        "                lista_de_libros_hallados.append(libro)\n",
        "      if lista_de_libros_hallados:\n",
        "             for libro in lista_de_libros_hallados:\n",
        "                print(f\"* {libro.titulo} de {libro.autor}\")\n",
        "      else:\n",
        "            print(\"No se encontraron libros que coincidan\")\n",
        ""
      ],
      "metadata": {
        "id": "jhw3ku88hoVS"
      },
      "execution_count": 42,
      "outputs": []
    },
    {
      "cell_type": "code",
      "source": [
        "b = Biblioteca(\"Biblioteca Central Pedro Zulen\")\n",
        "l1 = Libro(\"Cumbres Borrascosas\", \"Emily Bronte \")\n",
        "l2 = Libro(\"Shadow Slave\", \"Guiltythree\")\n",
        "l3 = Libro(\"Reverend_insanity\", \"Gu Zhen Ren\")\n",
        "l4 = Libro(\"Le Rouge et le Noir\",\"Stendhal\")\n",
        "l5 = Libro(\"Mysteries of Immortal Puppet Master\",\"Gu Zhen Ren\")\n",
        "b.agregar_libro(l1)\n",
        "b.agregar_libro(l2)\n",
        "b.agregar_libro(l3)\n",
        "b.agregar_libro(l4)\n",
        "b.agregar_libro(l5)\n",
        "b.remover_libro(l1)\n",
        "b.buscar_libros(\"Emily\")\n",
        "b.buscar_libros(\"Gu Zhen\")\n"
      ],
      "metadata": {
        "colab": {
          "base_uri": "https://localhost:8080/"
        },
        "id": "edUgPglK7N9M",
        "outputId": "18a0c14e-506c-489b-814c-8ce7d6add528"
      },
      "execution_count": 44,
      "outputs": [
        {
          "output_type": "stream",
          "name": "stdout",
          "text": [
            "Se agregó el libro: Cumbres Borrascosas\n",
            "Se agregó el libro: Shadow Slave\n",
            "Se agregó el libro: Reverend_insanity\n",
            "Se agregó el libro: Le Rouge et le Noir\n",
            "Se agregó el libro: Mysteries of Immortal Puppet Master\n",
            "Se removió el libro: Cumbres Borrascosas\n",
            "No se encontraron libros que coincidan\n",
            "* Reverend_insanity de Gu Zhen Ren\n",
            "* Mysteries of Immortal Puppet Master de Gu Zhen Ren\n"
          ]
        }
      ]
    },
    {
      "cell_type": "code",
      "source": [],
      "metadata": {
        "id": "8TEJ0AhH7dNB"
      },
      "execution_count": null,
      "outputs": []
    }
  ]
}