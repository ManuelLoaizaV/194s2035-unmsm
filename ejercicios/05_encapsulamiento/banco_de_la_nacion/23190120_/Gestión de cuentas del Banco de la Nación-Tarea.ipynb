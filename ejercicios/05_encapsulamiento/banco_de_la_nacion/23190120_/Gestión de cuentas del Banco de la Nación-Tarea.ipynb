{
  "nbformat": 4,
  "nbformat_minor": 0,
  "metadata": {
    "colab": {
      "provenance": []
    },
    "kernelspec": {
      "name": "python3",
      "display_name": "Python 3"
    },
    "language_info": {
      "name": "python"
    }
  },
  "cells": [
    {
      "cell_type": "code",
      "execution_count": 21,
      "metadata": {
        "id": "_IF1Mz2DW-nV"
      },
      "outputs": [],
      "source": [
        "#Gestión de cuentas del Banco de la Nación\n",
        "\n",
        "class CuentaBancaria:\n",
        "    def __init__(self, numero_cuenta, saldo_inicial):\n",
        "        self.__numero_cuenta = numero_cuenta\n",
        "        self.__saldo = saldo_inicial\n",
        "\n",
        "    def obtener_numero_cuenta(self):\n",
        "       return self.__numero_cuenta\n",
        "\n",
        "    def obtener_saldo(self):\n",
        "        return self.__saldo\n",
        "\n",
        "    def depositar(self, monto):\n",
        "        if monto <= 0:\n",
        "           raise ValueError(\"No se puede depositar fondos negativos o nulos\")\n",
        "        else:\n",
        "             self.__saldo += monto\n",
        "             print(f\"Se ha depositado: {monto}. El nuevo saldo es: {self.__saldo}\")\n",
        "\n",
        "    def retirar(self, monto):\n",
        "        if monto <= 0:\n",
        "           raise ValueError(\"No se puede retirar fondos negativos o nulos\")\n",
        "        elif monto > self.__saldo:\n",
        "             raise ValueError(\"Fondos insuficientes\")\n",
        "        else:\n",
        "             self.__saldo -= monto\n",
        "             print(f\"Se ha retirado: {monto}. El nuevo saldo es: {self.__saldo}\")"
      ]
    },
    {
      "cell_type": "code",
      "source": [
        "c_72300935 = CuentaBancaria (\"12345678\", 567)\n",
        "print(c_72300935.obtener_numero_cuenta())\n",
        "print(c_72300935.obtener_saldo())"
      ],
      "metadata": {
        "colab": {
          "base_uri": "https://localhost:8080/"
        },
        "id": "R_x8R57JI7-U",
        "outputId": "ddece2d3-15da-4d5d-b4a3-c080a41e4d6c"
      },
      "execution_count": 15,
      "outputs": [
        {
          "output_type": "stream",
          "name": "stdout",
          "text": [
            "12345678\n",
            "567\n"
          ]
        }
      ]
    },
    {
      "cell_type": "code",
      "source": [
        "deposito_res = c_72300935.depositar(200)"
      ],
      "metadata": {
        "colab": {
          "base_uri": "https://localhost:8080/"
        },
        "id": "QYj8gNcpQO3W",
        "outputId": "c9438086-1054-4e75-b66c-571d73fa5610"
      },
      "execution_count": 27,
      "outputs": [
        {
          "output_type": "stream",
          "name": "stdout",
          "text": [
            "Se ha depositado: 200. El nuevo saldo es: 967\n"
          ]
        }
      ]
    },
    {
      "cell_type": "code",
      "source": [
        "deposito_res = c_72300935.depositar(-9898)"
      ],
      "metadata": {
        "colab": {
          "base_uri": "https://localhost:8080/",
          "height": 263
        },
        "id": "NfciuXp_QqJL",
        "outputId": "e5c61c13-2c72-4e76-d852-e43c44f2e2c4"
      },
      "execution_count": 28,
      "outputs": [
        {
          "output_type": "error",
          "ename": "ValueError",
          "evalue": "No se puede depositar fondos negativos o nulos",
          "traceback": [
            "\u001b[0;31m---------------------------------------------------------------------------\u001b[0m",
            "\u001b[0;31mValueError\u001b[0m                                Traceback (most recent call last)",
            "\u001b[0;32m<ipython-input-28-9851952d7287>\u001b[0m in \u001b[0;36m<cell line: 1>\u001b[0;34m()\u001b[0m\n\u001b[0;32m----> 1\u001b[0;31m \u001b[0mdeposito_res\u001b[0m \u001b[0;34m=\u001b[0m \u001b[0mc_72300935\u001b[0m\u001b[0;34m.\u001b[0m\u001b[0mdepositar\u001b[0m\u001b[0;34m(\u001b[0m\u001b[0;34m-\u001b[0m\u001b[0;36m9898\u001b[0m\u001b[0;34m)\u001b[0m\u001b[0;34m\u001b[0m\u001b[0;34m\u001b[0m\u001b[0m\n\u001b[0m",
            "\u001b[0;32m<ipython-input-9-27ca27157934>\u001b[0m in \u001b[0;36mdepositar\u001b[0;34m(self, monto)\u001b[0m\n\u001b[1;32m     14\u001b[0m     \u001b[0;32mdef\u001b[0m \u001b[0mdepositar\u001b[0m\u001b[0;34m(\u001b[0m\u001b[0mself\u001b[0m\u001b[0;34m,\u001b[0m \u001b[0mmonto\u001b[0m\u001b[0;34m)\u001b[0m\u001b[0;34m:\u001b[0m\u001b[0;34m\u001b[0m\u001b[0;34m\u001b[0m\u001b[0m\n\u001b[1;32m     15\u001b[0m         \u001b[0;32mif\u001b[0m \u001b[0mmonto\u001b[0m \u001b[0;34m<=\u001b[0m \u001b[0;36m0\u001b[0m\u001b[0;34m:\u001b[0m\u001b[0;34m\u001b[0m\u001b[0;34m\u001b[0m\u001b[0m\n\u001b[0;32m---> 16\u001b[0;31m            \u001b[0;32mraise\u001b[0m \u001b[0mValueError\u001b[0m\u001b[0;34m(\u001b[0m\u001b[0;34m\"No se puede depositar fondos negativos o nulos\"\u001b[0m\u001b[0;34m)\u001b[0m\u001b[0;34m\u001b[0m\u001b[0;34m\u001b[0m\u001b[0m\n\u001b[0m\u001b[1;32m     17\u001b[0m         \u001b[0;32melse\u001b[0m\u001b[0;34m:\u001b[0m\u001b[0;34m\u001b[0m\u001b[0;34m\u001b[0m\u001b[0m\n\u001b[1;32m     18\u001b[0m              \u001b[0mself\u001b[0m\u001b[0;34m.\u001b[0m\u001b[0m__saldo\u001b[0m \u001b[0;34m+=\u001b[0m \u001b[0mmonto\u001b[0m\u001b[0;34m\u001b[0m\u001b[0;34m\u001b[0m\u001b[0m\n",
            "\u001b[0;31mValueError\u001b[0m: No se puede depositar fondos negativos o nulos"
          ]
        }
      ]
    },
    {
      "cell_type": "code",
      "source": [
        "retiro_res = c_72300935.retirar(100)"
      ],
      "metadata": {
        "colab": {
          "base_uri": "https://localhost:8080/"
        },
        "id": "e1pR72__VcbU",
        "outputId": "adaa75a4-71e5-417a-f7bd-373e9ff605e9"
      },
      "execution_count": 29,
      "outputs": [
        {
          "output_type": "stream",
          "name": "stdout",
          "text": [
            "Se ha retirado: 100. El nuevo saldo es: 867\n"
          ]
        }
      ]
    },
    {
      "cell_type": "code",
      "source": [
        "retiro_res = c_72300935.retirar(1000)"
      ],
      "metadata": {
        "colab": {
          "base_uri": "https://localhost:8080/",
          "height": 263
        },
        "id": "g0r_PDrvVfaw",
        "outputId": "b86c674a-10c4-4d6e-8d5d-9cbbadc6286b"
      },
      "execution_count": 30,
      "outputs": [
        {
          "output_type": "error",
          "ename": "ValueError",
          "evalue": "Fondos insuficientes",
          "traceback": [
            "\u001b[0;31m---------------------------------------------------------------------------\u001b[0m",
            "\u001b[0;31mValueError\u001b[0m                                Traceback (most recent call last)",
            "\u001b[0;32m<ipython-input-30-c2df9e68ef1f>\u001b[0m in \u001b[0;36m<cell line: 1>\u001b[0;34m()\u001b[0m\n\u001b[0;32m----> 1\u001b[0;31m \u001b[0mretiro_res\u001b[0m \u001b[0;34m=\u001b[0m \u001b[0mc_72300935\u001b[0m\u001b[0;34m.\u001b[0m\u001b[0mretirar\u001b[0m\u001b[0;34m(\u001b[0m\u001b[0;36m1000\u001b[0m\u001b[0;34m)\u001b[0m\u001b[0;34m\u001b[0m\u001b[0;34m\u001b[0m\u001b[0m\n\u001b[0m",
            "\u001b[0;32m<ipython-input-9-27ca27157934>\u001b[0m in \u001b[0;36mretirar\u001b[0;34m(self, monto)\u001b[0m\n\u001b[1;32m     23\u001b[0m            \u001b[0;32mraise\u001b[0m \u001b[0mValueError\u001b[0m\u001b[0;34m(\u001b[0m\u001b[0;34m\"No se puede retirar fondos negativos o nulos\"\u001b[0m\u001b[0;34m)\u001b[0m\u001b[0;34m\u001b[0m\u001b[0;34m\u001b[0m\u001b[0m\n\u001b[1;32m     24\u001b[0m         \u001b[0;32melif\u001b[0m \u001b[0mmonto\u001b[0m \u001b[0;34m>\u001b[0m \u001b[0mself\u001b[0m\u001b[0;34m.\u001b[0m\u001b[0m__saldo\u001b[0m\u001b[0;34m:\u001b[0m\u001b[0;34m\u001b[0m\u001b[0;34m\u001b[0m\u001b[0m\n\u001b[0;32m---> 25\u001b[0;31m              \u001b[0;32mraise\u001b[0m \u001b[0mValueError\u001b[0m\u001b[0;34m(\u001b[0m\u001b[0;34m\"Fondos insuficientes\"\u001b[0m\u001b[0;34m)\u001b[0m\u001b[0;34m\u001b[0m\u001b[0;34m\u001b[0m\u001b[0m\n\u001b[0m\u001b[1;32m     26\u001b[0m         \u001b[0;32melse\u001b[0m\u001b[0;34m:\u001b[0m\u001b[0;34m\u001b[0m\u001b[0;34m\u001b[0m\u001b[0m\n\u001b[1;32m     27\u001b[0m              \u001b[0mself\u001b[0m\u001b[0;34m.\u001b[0m\u001b[0m__saldo\u001b[0m \u001b[0;34m-=\u001b[0m \u001b[0mmonto\u001b[0m\u001b[0;34m\u001b[0m\u001b[0;34m\u001b[0m\u001b[0m\n",
            "\u001b[0;31mValueError\u001b[0m: Fondos insuficientes"
          ]
        }
      ]
    },
    {
      "cell_type": "code",
      "source": [
        "retiro_res = c_72300935.retirar(-30)"
      ],
      "metadata": {
        "colab": {
          "base_uri": "https://localhost:8080/",
          "height": 263
        },
        "id": "uAk-e42yVwkv",
        "outputId": "82302ced-7e87-4fa4-b58c-2305986539cc"
      },
      "execution_count": 31,
      "outputs": [
        {
          "output_type": "error",
          "ename": "ValueError",
          "evalue": "No se puede retirar fondos negativos o nulos",
          "traceback": [
            "\u001b[0;31m---------------------------------------------------------------------------\u001b[0m",
            "\u001b[0;31mValueError\u001b[0m                                Traceback (most recent call last)",
            "\u001b[0;32m<ipython-input-31-afb5559802da>\u001b[0m in \u001b[0;36m<cell line: 1>\u001b[0;34m()\u001b[0m\n\u001b[0;32m----> 1\u001b[0;31m \u001b[0mretiro_res\u001b[0m \u001b[0;34m=\u001b[0m \u001b[0mc_72300935\u001b[0m\u001b[0;34m.\u001b[0m\u001b[0mretirar\u001b[0m\u001b[0;34m(\u001b[0m\u001b[0;34m-\u001b[0m\u001b[0;36m30\u001b[0m\u001b[0;34m)\u001b[0m\u001b[0;34m\u001b[0m\u001b[0;34m\u001b[0m\u001b[0m\n\u001b[0m",
            "\u001b[0;32m<ipython-input-9-27ca27157934>\u001b[0m in \u001b[0;36mretirar\u001b[0;34m(self, monto)\u001b[0m\n\u001b[1;32m     21\u001b[0m     \u001b[0;32mdef\u001b[0m \u001b[0mretirar\u001b[0m\u001b[0;34m(\u001b[0m\u001b[0mself\u001b[0m\u001b[0;34m,\u001b[0m \u001b[0mmonto\u001b[0m\u001b[0;34m)\u001b[0m\u001b[0;34m:\u001b[0m\u001b[0;34m\u001b[0m\u001b[0;34m\u001b[0m\u001b[0m\n\u001b[1;32m     22\u001b[0m         \u001b[0;32mif\u001b[0m \u001b[0mmonto\u001b[0m \u001b[0;34m<=\u001b[0m \u001b[0;36m0\u001b[0m\u001b[0;34m:\u001b[0m\u001b[0;34m\u001b[0m\u001b[0;34m\u001b[0m\u001b[0m\n\u001b[0;32m---> 23\u001b[0;31m            \u001b[0;32mraise\u001b[0m \u001b[0mValueError\u001b[0m\u001b[0;34m(\u001b[0m\u001b[0;34m\"No se puede retirar fondos negativos o nulos\"\u001b[0m\u001b[0;34m)\u001b[0m\u001b[0;34m\u001b[0m\u001b[0;34m\u001b[0m\u001b[0m\n\u001b[0m\u001b[1;32m     24\u001b[0m         \u001b[0;32melif\u001b[0m \u001b[0mmonto\u001b[0m \u001b[0;34m>\u001b[0m \u001b[0mself\u001b[0m\u001b[0;34m.\u001b[0m\u001b[0m__saldo\u001b[0m\u001b[0;34m:\u001b[0m\u001b[0;34m\u001b[0m\u001b[0;34m\u001b[0m\u001b[0m\n\u001b[1;32m     25\u001b[0m              \u001b[0;32mraise\u001b[0m \u001b[0mValueError\u001b[0m\u001b[0;34m(\u001b[0m\u001b[0;34m\"Fondos insuficientes\"\u001b[0m\u001b[0;34m)\u001b[0m\u001b[0;34m\u001b[0m\u001b[0;34m\u001b[0m\u001b[0m\n",
            "\u001b[0;31mValueError\u001b[0m: No se puede retirar fondos negativos o nulos"
          ]
        }
      ]
    }
  ]
}