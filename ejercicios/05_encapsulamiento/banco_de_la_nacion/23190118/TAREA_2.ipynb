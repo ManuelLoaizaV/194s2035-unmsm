{
  "cells": [
    {
      "cell_type": "markdown",
      "metadata": {
        "colab_type": "text",
        "id": "view-in-github"
      },
      "source": [
        "<a href=\"https://colab.research.google.com/github/Nileve-teoo/OneDrive/blob/main/TAREA_2.ipynb\" target=\"_parent\"><img src=\"https://colab.research.google.com/assets/colab-badge.svg\" alt=\"Open In Colab\"/></a>"
      ]
    },
    {
      "cell_type": "markdown",
      "metadata": {
        "id": "CqrOqxy7fp2W"
      },
      "source": [
        "# Encapsulamiento"
      ]
    },
    {
      "cell_type": "code",
      "execution_count": 29,
      "metadata": {
        "id": "f3sXfFwCeszf"
      },
      "outputs": [],
      "source": [
        "class CuentaBancaria:\n",
        "    def __init__(self, numero_cuenta, saldo_inicial):\n",
        "        # Inicializar variables privadas\n",
        "        self.__numero_cuenta = numero_cuenta\n",
        "        self.__saldo = saldo_inicial\n",
        "\n",
        "    # Getters públicos\n",
        "    def obtener_numero_cuenta(self):\n",
        "        return self.__numero_cuenta\n",
        "\n",
        "    def obtener_saldo(self):\n",
        "        return self.__saldo\n",
        "\n",
        "    # Método depositar\n",
        "    def depositar(self, monto):\n",
        "        if monto <= 0:\n",
        "            raise ValueError(\"No se puede retirar fondos negativos o nulos .\")\n",
        "        self.__saldo += monto\n",
        "\n",
        "    # Método retirar\n",
        "    def retirar(self, monto):\n",
        "        if monto <= 0:\n",
        "            raise ValueError(\"No hay fondos.\")\n",
        "        if monto > self.__saldo:\n",
        "            raise ValueError(\"Fondos insuficientes.\")\n",
        "        self.__saldo -= monto\n",
        "\n"
      ]
    },
    {
      "cell_type": "code",
      "execution_count": 77,
      "metadata": {
        "colab": {
          "base_uri": "https://localhost:8080/"
        },
        "id": "k4cmnbULhY1W",
        "outputId": "ce28bd7f-14fa-4b35-e2b1-7fbfd241e551"
      },
      "outputs": [
        {
          "name": "stdout",
          "output_type": "stream",
          "text": [
            "La cuenta  45646222622 tiene el saldo de 1825 .\n",
            "Despues de la operación de depósito se tiene el nuevo saldo de 2325 .\n",
            "No hay fondos.\n",
            "Nuevo saldo de 0 soles.\n"
          ]
        }
      ],
      "source": [
        "# Cuenta bancaria\n",
        "cuenta7 = CuentaBancaria(\"45646222622\", 1825)\n",
        "\n",
        "# Obtener número de cuenta y saldo\n",
        "print(\"La cuenta \", cuenta7.obtener_numero_cuenta(),\"tiene el saldo de\",cuenta7.obtener_saldo(),\".\")\n",
        "\n",
        "# Depositar fondos\n",
        "cuenta7.depositar(500)\n",
        "print(\"Despues de la operación de depósito se tiene el nuevo saldo de\",cuenta7.obtener_saldo(),\".\")\n",
        "\n",
        "# Intentar retirar más de lo que hay en la cuenta\n",
        "try:\n",
        "    cuenta7.retirar(-568)\n",
        "except ValueError as e:\n",
        "    print(e)\n",
        "\n",
        "# Retirar fondos correctamente\n",
        "cuenta7.retirar(2325)\n",
        "print(\"Nuevo saldo de\",cuenta7.obtener_saldo(),\"soles.\")"
      ]
    },
    {
      "cell_type": "code",
      "execution_count": 87,
      "metadata": {
        "colab": {
          "base_uri": "https://localhost:8080/"
        },
        "id": "B3aXEq2PhReg",
        "outputId": "88ee754d-7efa-4239-a37a-9c082a857385"
      },
      "outputs": [
        {
          "name": "stdout",
          "output_type": "stream",
          "text": [
            "Saldo inicial para realizar la transacción:\n",
            "La cuenta bancaria con número 45646222622 tiene un saldo de 10 nuevos soles.\n",
            "La cuenta bancaria con número 54522248621 tiene un saldo de 55852 nuevos soles.\n",
            "La cuenta bancaria con número 25468828566 tiene un saldo de 750152 nuevos soles.\n",
            "La cuenta bancaria con número 85656512123 tiene un saldo de 68945 nuevos soles.\n",
            "La cuenta bancaria con número 87864655665 tiene un saldo de 98567 nuevos soles.\n",
            "\n",
            "Saldo final después de las transacciones:\n",
            "El nuevo saldo de la cuenta bancaria de número 45646222622 es de 8000 soles.\n",
            "El nuevo saldo de la cuenta bancaria de número 54522248621 es de 56952 soles.\n",
            "El nuevo saldo de la cuenta bancaria de número 25468828566 es de 50942 soles.\n",
            "El nuevo saldo de la cuenta bancaria de número 85656512123 es de 13465 soles.\n",
            "El nuevo saldo de la cuenta bancaria de número 87864655665 es de 6100 soles.\n"
          ]
        }
      ],
      "source": [
        "# Cuentas bancarias\n",
        "cuenta1 = CuentaBancaria(\"45646222622\", 10)\n",
        "cuenta2 = CuentaBancaria(\"54522248621\", 55852)\n",
        "cuenta3 = CuentaBancaria(\"25468828566\", 750152)\n",
        "cuenta4 = CuentaBancaria(\"85656512123\", 68945)\n",
        "cuenta5 = CuentaBancaria(\"87864655665\", 98567)\n",
        "\n",
        "# Mostrar saldo inicial de cada cuenta\n",
        "print(\"Saldo inicial para realizar la transacción:\")\n",
        "print(f\"La cuenta bancaria con número {cuenta1.obtener_numero_cuenta()} tiene un saldo de {cuenta1.obtener_saldo()} nuevos soles.\")\n",
        "print(f\"La cuenta bancaria con número {cuenta2.obtener_numero_cuenta()} tiene un saldo de {cuenta2.obtener_saldo()} nuevos soles.\")\n",
        "print(f\"La cuenta bancaria con número {cuenta3.obtener_numero_cuenta()} tiene un saldo de {cuenta3.obtener_saldo()} nuevos soles.\")\n",
        "print(f\"La cuenta bancaria con número {cuenta4.obtener_numero_cuenta()} tiene un saldo de {cuenta4.obtener_saldo()} nuevos soles.\")\n",
        "print(f\"La cuenta bancaria con número {cuenta5.obtener_numero_cuenta()} tiene un saldo de {cuenta5.obtener_saldo()} nuevos soles.\")\n",
        "\n",
        "# Realizar depósitos en algunas cuentas\n",
        "cuenta1.depositar(3000)\n",
        "cuenta2.depositar(1200)\n",
        "cuenta3.depositar(300)\n",
        "cuenta5.depositar(33)\n",
        "cuenta1.depositar(5000)\n",
        "cuenta3.depositar(990)\n",
        "\n",
        "# Realizar retiros en algunas cuentas\n",
        "try:\n",
        "    cuenta2.retirar(100)\n",
        "    cuenta4.retirar(55480)\n",
        "    cuenta5.retirar(92500)\n",
        "    cuenta1.retirar(10)\n",
        "    cuenta3.retirar(700500)\n",
        "except ValueError as e:\n",
        "    print(e)\n",
        "\n",
        "# Mostrar saldo final de cada cuenta\n",
        "print(\"\\nSaldo final después de las transacciones:\")\n",
        "print(f\"El nuevo saldo de la cuenta bancaria de número {cuenta1.obtener_numero_cuenta()} es de {cuenta1.obtener_saldo()} soles.\")\n",
        "print(f\"El nuevo saldo de la cuenta bancaria de número {cuenta2.obtener_numero_cuenta()} es de {cuenta2.obtener_saldo()} soles.\")\n",
        "print(f\"El nuevo saldo de la cuenta bancaria de número {cuenta3.obtener_numero_cuenta()} es de {cuenta3.obtener_saldo()} soles.\")\n",
        "print(f\"El nuevo saldo de la cuenta bancaria de número {cuenta4.obtener_numero_cuenta()} es de {cuenta4.obtener_saldo()} soles.\")\n",
        "print(f\"El nuevo saldo de la cuenta bancaria de número {cuenta5.obtener_numero_cuenta()} es de {cuenta5.obtener_saldo()} soles.\")"
      ]
    }
  ],
  "metadata": {
    "colab": {
      "authorship_tag": "ABX9TyPMruxOtWg1mDHJRd4KfbBD",
      "include_colab_link": true,
      "provenance": []
    },
    "kernelspec": {
      "display_name": "Python 3",
      "name": "python3"
    },
    "language_info": {
      "name": "python"
    }
  },
  "nbformat": 4,
  "nbformat_minor": 0
}
