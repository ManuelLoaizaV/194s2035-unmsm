{
  "nbformat": 4,
  "nbformat_minor": 0,
  "metadata": {
    "colab": {
      "provenance": []
    },
    "kernelspec": {
      "name": "python3",
      "display_name": "Python 3"
    },
    "language_info": {
      "name": "python"
    }
  },
  "cells": [
    {
      "cell_type": "code",
      "execution_count": 1,
      "metadata": {
        "colab": {
          "base_uri": "https://localhost:8080/"
        },
        "id": "isNG1RWgwlrB",
        "outputId": "ee145719-101f-46ac-9c4e-78dbe6840acc"
      },
      "outputs": [
        {
          "output_type": "stream",
          "name": "stdout",
          "text": [
            "{'Cálculo II': 'F', 'Física': 'B', 'Química': 'C'}\n",
            "{'Cálculo II': 'B', 'Física': 'A', 'Química': 'A'}\n"
          ]
        }
      ],
      "source": [
        "class Estudiante:\n",
        "    def __init__(self, nombre, ape1, ape2, código):\n",
        "        # Inicializamos el nombre y el diccionario de cursos vacío\n",
        "        self.nombre = nombre\n",
        "        self.ape1 = ape1\n",
        "        self.ape2 = ape2\n",
        "        self.código = código\n",
        "        self.__cursos = {}  # Diccionario para almacenar los cursos\n",
        "\n",
        "    def calcular_nota_letra(self, calificacion):\n",
        "        # Calcular la nota en letra según la calificación\n",
        "        if calificacion >= 15:\n",
        "            return \"A\"\n",
        "        elif 13 <= calificacion < 15:\n",
        "            return \"B\"\n",
        "        elif 12 <= calificacion < 13:\n",
        "            return \"C\"\n",
        "        elif 10.5 <= calificacion < 12:\n",
        "            return \"D\"\n",
        "        else:\n",
        "            return \"F\"\n",
        "\n",
        "    def agregar_curso(self, nombre_curso, calificacion):\n",
        "        # Calcula la nota usando calcular_nota_letra\n",
        "        nota_letra = self.calcular_nota_letra(calificacion)\n",
        "        # Agrega el curso y la calificación en letra al diccionario\n",
        "        self.__cursos[nombre_curso] = nota_letra\n",
        "\n",
        "    def obtener_cursos(self):\n",
        "        # Muestra el diccionario de cursos con sus respectivas notas\n",
        "        return self.__cursos\n",
        "\n",
        "# Lista de estudiantes\n",
        "estudiante1 = Estudiante(\"Juan\", \"Pérez\", \"Llosa\", 23190453)\n",
        "estudiante2 = Estudiante(\"Rosa\", \"Morales\", \"Sosa\", 23190234)\n",
        "\n",
        "# Agregar cursos y calificaciones\n",
        "estudiante1.agregar_curso(\"Cálculo II\", 9)\n",
        "estudiante1.agregar_curso(\"Física\", 13.5)\n",
        "estudiante1.agregar_curso(\"Química\", 12)\n",
        "\n",
        "estudiante2.agregar_curso(\"Cálculo II\", 14)\n",
        "estudiante2.agregar_curso(\"Física\", 15)\n",
        "estudiante2.agregar_curso(\"Química\", 16)\n",
        "\n",
        "# Obtener los cursos y sus notas\n",
        "cursos1 = estudiante1.obtener_cursos()\n",
        "cursos2 = estudiante2.obtener_cursos()\n",
        "\n",
        "print(cursos1)\n",
        "print(cursos2)"
      ]
    }
  ]
}