{
  "nbformat": 4,
  "nbformat_minor": 0,
  "metadata": {
    "colab": {
      "provenance": []
    },
    "kernelspec": {
      "name": "python3",
      "display_name": "Python 3"
    },
    "language_info": {
      "name": "python"
    }
  },
  "cells": [
    {
      "cell_type": "code",
      "source": [
        "class Estudiante:\n",
        "    def __init__(self, nombre):\n",
        "        self.nombre = nombre\n",
        "        self.__cursos = {}\n",
        "\n",
        "    def calcular_nota_letra(self, calificacion):\n",
        "        if calificacion >= 15:\n",
        "            return \"A\"\n",
        "        elif 13 <= calificacion < 15:\n",
        "            return \"B\"\n",
        "        elif 12 <= calificacion < 13:\n",
        "            return \"C\"\n",
        "        elif 10.5 <= calificacion < 12:\n",
        "            return \"D\"\n",
        "        else:\n",
        "            return \"F\"\n",
        "\n",
        "    def agregar_curso(self, nombre_curso, calificacion):\n",
        "        nota_letra = self.calcular_nota_letra(calificacion)\n",
        "        self.__cursos[nombre_curso] = nota_letra\n",
        "\n",
        "    def obtener_cursos(self):\n",
        "        return self.__cursos\n",
        "\n",
        "\n"
      ],
      "metadata": {
        "id": "2FR0O0tOYiD3"
      },
      "execution_count": 6,
      "outputs": []
    },
    {
      "cell_type": "code",
      "source": [
        "estudiante = Estudiante(\"Kerry Martinez\")\n",
        "estudiante.agregar_curso(\"Cálculo I\", 10.4)\n",
        "estudiante.agregar_curso(\"AGA\", 14)\n",
        "estudiante.agregar_curso(\"Física\", 11)\n",
        "\n",
        "print(estudiante.obtener_cursos())"
      ],
      "metadata": {
        "colab": {
          "base_uri": "https://localhost:8080/"
        },
        "id": "kxJRr37YYqAO",
        "outputId": "eeb00886-d318-4b7c-ce1b-234774e811be"
      },
      "execution_count": 12,
      "outputs": [
        {
          "output_type": "stream",
          "name": "stdout",
          "text": [
            "{'Cálculo I': 'F', 'AGA': 'B', 'Física': 'D'}\n"
          ]
        }
      ]
    },
    {
      "cell_type": "code",
      "source": [
        "estudiante = Estudiante(\"Paulo Cubas\")\n",
        "estudiante.agregar_curso(\"Química\", 17)\n",
        "estudiante.agregar_curso(\"Programación\", 12)\n",
        "estudiante.agregar_curso(\"Circuitos electricos\", 14)\n",
        "\n",
        "print(estudiante.obtener_cursos())"
      ],
      "metadata": {
        "colab": {
          "base_uri": "https://localhost:8080/"
        },
        "id": "Lui1FSMbaLVW",
        "outputId": "dad10cc7-73d0-45ef-fa50-0bfdf9328475"
      },
      "execution_count": 11,
      "outputs": [
        {
          "output_type": "stream",
          "name": "stdout",
          "text": [
            "{'Química': 'A', 'Programación': 'C', 'Circuitos electricos': 'B'}\n"
          ]
        }
      ]
    }
  ]
}